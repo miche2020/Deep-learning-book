{
 "cells": [
  {
   "cell_type": "code",
   "execution_count": 1,
   "id": "c989ca47",
   "metadata": {},
   "outputs": [],
   "source": [
    "import tensorflow as tf\n",
    "import numpy as np\n",
    "from models_classes import RegModel\n",
    "from losses import mse_loss\n",
    "import matplotlib.pyplot as plt"
   ]
  },
  {
   "cell_type": "markdown",
   "id": "f3be00b3",
   "metadata": {},
   "source": [
    "tf.initialize_global_variables  нужен для инициализации переменных  \n",
    "tf.placeholder() тензор -заглушка  можно передать значения в момент выполнения кода\n"
   ]
  },
  {
   "cell_type": "markdown",
   "id": "aa968e2e",
   "metadata": {},
   "source": [
    "Hello world!\n"
   ]
  },
  {
   "cell_type": "code",
   "execution_count": 7,
   "id": "e1bf018b",
   "metadata": {},
   "outputs": [
    {
     "name": "stdout",
     "output_type": "stream",
     "text": [
      "Epoch - 100, loss = 445.785545158542, k - [[2.04457046]], b = [0.57371874]\n",
      "Epoch - 200, loss = 425.62344114139967, k - [[2.01661589]], b = [0.68549081]\n",
      "Epoch - 300, loss = 377.6679900336666, k - [[2.01059207]], b = [0.75983271]\n",
      "Epoch - 400, loss = 364.282824508759, k - [[2.0240696]], b = [0.83127866]\n",
      "Epoch - 500, loss = 466.9134181637578, k - [[1.99551385]], b = [0.86540051]\n",
      "Epoch - 600, loss = 344.73318044467726, k - [[1.96626151]], b = [0.90723034]\n",
      "Epoch - 700, loss = 476.02831607980346, k - [[1.9831201]], b = [0.94258646]\n",
      "Epoch - 800, loss = 337.2156314288829, k - [[2.01184711]], b = [0.9494837]\n",
      "Epoch - 900, loss = 469.49028214655357, k - [[1.99938814]], b = [0.9812381]\n",
      "Epoch - 1000, loss = 446.79639707605696, k - [[1.95025535]], b = [0.95589163]\n",
      "Epoch - 1100, loss = 393.097747077278, k - [[1.98140393]], b = [0.96322994]\n",
      "Epoch - 1200, loss = 282.20834736606344, k - [[1.99541796]], b = [0.97110059]\n",
      "Epoch - 1300, loss = 379.384157803473, k - [[1.99349978]], b = [0.97475199]\n",
      "Epoch - 1400, loss = 449.96801356730987, k - [[2.01448026]], b = [0.96653848]\n",
      "Epoch - 1500, loss = 510.72154705952835, k - [[1.91894099]], b = [0.94670893]\n",
      "Epoch - 1600, loss = 448.8175483878635, k - [[1.96225038]], b = [0.9305435]\n",
      "Epoch - 1700, loss = 555.0940539209695, k - [[2.06706172]], b = [0.94837288]\n",
      "Epoch - 1800, loss = 427.4112683116181, k - [[1.97977062]], b = [0.93575343]\n",
      "Epoch - 1900, loss = 432.15453535869506, k - [[1.96882805]], b = [0.94479403]\n",
      "Epoch - 2000, loss = 359.16867695833673, k - [[2.00771901]], b = [0.9470999]\n"
     ]
    }
   ],
   "source": [
    "n_samples = 1000\n",
    "batch_size = 100\n",
    "num_steps = 2000\n",
    "display_step = 100\n",
    "\n",
    "#generate data\n",
    "X_data = np.random.uniform(1, 10, (n_samples, 1))\n",
    "y_data = 2 * X_data + 1 + np.random.normal(0, 2, (n_samples, 1))\n",
    "\n",
    "k = tf.Variable(tf.random.normal((1, 1), dtype='float64'), name='slope')\n",
    "b = tf.Variable(tf.zeros((1,), dtype='float64'), name='bias')\n",
    "\n",
    "def train(model, X, y, optimizer):\n",
    "    \"\"\"\n",
    "    One step of train process\n",
    "    \n",
    "    params:\n",
    "        model: model object ot train\n",
    "        X: data\n",
    "        y: target\n",
    "        optimizer: tf optimizer\n",
    "    return:\n",
    "        loss: loss value\n",
    "    \"\"\"\n",
    "    with tf.GradientTape() as t:\n",
    "        y_pred = model(X)\n",
    "        loss = mse_loss(y, y_pred)\n",
    "    \n",
    "    grads = t.gradient(loss, [model.k, model.b])\n",
    "    optimizer.apply_gradients(zip(grads, [model.k, model.b]))\n",
    "    \n",
    "    return loss\n",
    "\n"
   ]
  },
  {
   "cell_type": "code",
   "execution_count": 8,
   "id": "f8d393be",
   "metadata": {},
   "outputs": [
    {
     "name": "stdout",
     "output_type": "stream",
     "text": [
      "Epoch - 100, loss = 380.0214819217417, k - [[2.01466845]], b = [0.96937581]\n",
      "Epoch - 200, loss = 396.8026887414086, k - [[2.02863255]], b = [0.95520488]\n",
      "Epoch - 300, loss = 277.33400391437675, k - [[1.98087562]], b = [0.9249869]\n",
      "Epoch - 400, loss = 475.723536752554, k - [[1.97874053]], b = [0.93256022]\n",
      "Epoch - 500, loss = 484.2624716544625, k - [[1.98027052]], b = [0.92898305]\n",
      "Epoch - 600, loss = 365.55015549287816, k - [[1.98750209]], b = [0.93368612]\n",
      "Epoch - 700, loss = 396.92089373870454, k - [[1.96979417]], b = [0.9484695]\n",
      "Epoch - 800, loss = 446.4880355068179, k - [[1.95077327]], b = [0.93241968]\n",
      "Epoch - 900, loss = 431.26946904631154, k - [[2.02739081]], b = [0.94451904]\n",
      "Epoch - 1000, loss = 417.6861202074694, k - [[1.97638438]], b = [0.93592119]\n",
      "Epoch - 1100, loss = 373.682617315933, k - [[1.98958956]], b = [0.95808641]\n",
      "Epoch - 1200, loss = 361.2256259894243, k - [[1.99619649]], b = [0.9701378]\n",
      "Epoch - 1300, loss = 449.8814356456253, k - [[1.95319765]], b = [0.96594365]\n",
      "Epoch - 1400, loss = 458.7494077616997, k - [[1.96650033]], b = [0.95496965]\n",
      "Epoch - 1500, loss = 354.1387495404393, k - [[1.95560805]], b = [0.95925909]\n",
      "Epoch - 1600, loss = 396.5913573290611, k - [[1.99338058]], b = [0.9648996]\n",
      "Epoch - 1700, loss = 375.45016512176636, k - [[1.98873514]], b = [0.97834468]\n",
      "Epoch - 1800, loss = 344.73594298805347, k - [[1.98623091]], b = [0.92974916]\n",
      "Epoch - 1900, loss = 407.8214769570183, k - [[2.02266511]], b = [0.94273992]\n",
      "Epoch - 2000, loss = 402.69375081765395, k - [[1.9900095]], b = [0.94352883]\n"
     ]
    }
   ],
   "source": [
    "optimizer = tf.optimizers.SGD(learning_rate=1e-4)\n",
    "model = RegModel(k, b)\n",
    "\n",
    "#optimization\n",
    "for i in range(num_steps):\n",
    "    indices = np.random.choice(n_samples, batch_size)\n",
    "    X_batch, y_batch = X_data[indices], y_data[indices]\n",
    "    \n",
    "    loss_val = train(model, X_batch, y_batch, optimizer)\n",
    "    if (i+1) % display_step == 0:\n",
    "        print('Epoch - {}, loss = {}, k - {}, b = {}'.format(i+1, loss_val, model.k.numpy(), model.b.numpy()))"
   ]
  },
  {
   "cell_type": "code",
   "execution_count": 28,
   "id": "1f64bafe",
   "metadata": {},
   "outputs": [],
   "source": [
    "import os"
   ]
  },
  {
   "cell_type": "code",
   "execution_count": null,
   "id": "e719ca82",
   "metadata": {},
   "outputs": [],
   "source": []
  }
 ],
 "metadata": {
  "kernelspec": {
   "display_name": "Python 3",
   "language": "python",
   "name": "python3"
  },
  "language_info": {
   "codemirror_mode": {
    "name": "ipython",
    "version": 3
   },
   "file_extension": ".py",
   "mimetype": "text/x-python",
   "name": "python",
   "nbconvert_exporter": "python",
   "pygments_lexer": "ipython3",
   "version": "3.8.6"
  }
 },
 "nbformat": 4,
 "nbformat_minor": 5
}
